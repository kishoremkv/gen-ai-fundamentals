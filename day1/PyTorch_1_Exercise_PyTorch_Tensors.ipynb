{
  "cells": [
    {
      "cell_type": "markdown",
      "metadata": {
        "id": "view-in-github",
        "colab_type": "text"
      },
      "source": [
        "<a href=\"https://colab.research.google.com/github/kishoremkv/gen-ai-fundamentals/blob/main/day1/PyTorch_1_Exercise_PyTorch_Tensors.ipynb\" target=\"_parent\"><img src=\"https://colab.research.google.com/assets/colab-badge.svg\" alt=\"Open In Colab\"/></a>"
      ]
    },
    {
      "cell_type": "markdown",
      "metadata": {
        "id": "CmuseiqGzCWr"
      },
      "source": [
        "## Import the __`torch`__ package"
      ]
    },
    {
      "cell_type": "code",
      "execution_count": null,
      "metadata": {
        "id": "eU6P6sF8zCWs"
      },
      "outputs": [],
      "source": [
        "import torch as pt\n",
        "pt.manual_seed(0);"
      ]
    },
    {
      "cell_type": "markdown",
      "metadata": {
        "id": "f6Snb3-nzCWw"
      },
      "source": [
        "## Create a vector of ten zeros"
      ]
    },
    {
      "cell_type": "code",
      "execution_count": null,
      "metadata": {
        "id": "cqTEF0MbzCWx",
        "colab": {
          "base_uri": "https://localhost:8080/"
        },
        "outputId": "0bd601b1-8892-4997-bff0-6bf4658f8ffa"
      },
      "outputs": [
        {
          "output_type": "execute_result",
          "data": {
            "text/plain": [
              "tensor([0., 0., 0., 0., 0., 0., 0., 0., 0., 0.])"
            ]
          },
          "metadata": {},
          "execution_count": 2
        }
      ],
      "source": [
        "pt.zeros(10)"
      ]
    },
    {
      "cell_type": "markdown",
      "metadata": {
        "id": "I---dV8dzCW4"
      },
      "source": [
        "## Create a vector of size ten with nine zeros and a 1 in the fifth position"
      ]
    },
    {
      "cell_type": "code",
      "execution_count": null,
      "metadata": {
        "id": "ADRsT7jazCW4",
        "colab": {
          "base_uri": "https://localhost:8080/"
        },
        "outputId": "d06aa0bf-6da4-4a14-bff8-84d64d3fcc78"
      },
      "outputs": [
        {
          "output_type": "execute_result",
          "data": {
            "text/plain": [
              "tensor([0., 0., 0., 0., 1., 0., 0., 0., 0., 0.])"
            ]
          },
          "metadata": {},
          "execution_count": 4
        }
      ],
      "source": [
        "x = pt.zeros(10)\n",
        "x[4] = 1\n",
        "x"
      ]
    },
    {
      "cell_type": "markdown",
      "metadata": {
        "id": "axtpynf4zCW7"
      },
      "source": [
        "## Create a vector with values ranging from 10 to 49"
      ]
    },
    {
      "cell_type": "code",
      "execution_count": null,
      "metadata": {
        "id": "oRlwKd1uzCW8",
        "colab": {
          "base_uri": "https://localhost:8080/"
        },
        "outputId": "47a70520-1f4f-4422-ac9d-32c50c8cbba1"
      },
      "outputs": [
        {
          "output_type": "execute_result",
          "data": {
            "text/plain": [
              "tensor([10, 11, 12, 13, 14, 15, 16, 17, 18, 19, 20, 21, 22, 23, 24, 25, 26, 27,\n",
              "        28, 29, 30, 31, 32, 33, 34, 35, 36, 37, 38, 39, 40, 41, 42, 43, 44, 45,\n",
              "        46, 47, 48, 49])"
            ]
          },
          "metadata": {},
          "execution_count": 5
        }
      ],
      "source": [
        "x = pt.arange(10, 50)\n",
        "x"
      ]
    },
    {
      "cell_type": "markdown",
      "metadata": {
        "id": "iLov9rqUzCXB"
      },
      "source": [
        "## Reverse the previous vector"
      ]
    },
    {
      "cell_type": "code",
      "execution_count": null,
      "metadata": {
        "id": "7tCYJBCMzCXC",
        "colab": {
          "base_uri": "https://localhost:8080/"
        },
        "outputId": "66d5027b-f605-4b75-ba2f-e0bcfbe849b2"
      },
      "outputs": [
        {
          "output_type": "execute_result",
          "data": {
            "text/plain": [
              "tensor([49, 48, 47, 46, 45, 44, 43, 42, 41, 40, 39, 38, 37, 36, 35, 34, 33, 32,\n",
              "        31, 30, 29, 28, 27, 26, 25, 24, 23, 22, 21, 20, 19, 18, 17, 16, 15, 14,\n",
              "        13, 12, 11, 10])"
            ]
          },
          "metadata": {},
          "execution_count": 7
        }
      ],
      "source": [
        "x.flip(0)"
      ]
    },
    {
      "cell_type": "markdown",
      "metadata": {
        "id": "pGbZs19bzCXF"
      },
      "source": [
        "## Create a 3x3 matrix with values ranging from 0 to 8"
      ]
    },
    {
      "cell_type": "code",
      "execution_count": null,
      "metadata": {
        "id": "dAj7IEFUzCXF",
        "colab": {
          "base_uri": "https://localhost:8080/"
        },
        "outputId": "1c057e3b-c1df-41e3-9261-7514a63e1cb2"
      },
      "outputs": [
        {
          "output_type": "execute_result",
          "data": {
            "text/plain": [
              "tensor([[0, 1, 2],\n",
              "        [3, 4, 5],\n",
              "        [6, 7, 8]])"
            ]
          },
          "metadata": {},
          "execution_count": 8
        }
      ],
      "source": [
        "pt.arange(9).reshape(3,3)"
      ]
    },
    {
      "cell_type": "markdown",
      "metadata": {
        "id": "plNf0tAFzCXI"
      },
      "source": [
        "## Find the indices of the non-zero elements of the following array:"
      ]
    },
    {
      "cell_type": "code",
      "execution_count": null,
      "metadata": {
        "id": "g0bp5VuNzCXJ",
        "colab": {
          "base_uri": "https://localhost:8080/"
        },
        "outputId": "74252c64-68c8-4abe-8a18-9e936020e9dc"
      },
      "outputs": [
        {
          "output_type": "execute_result",
          "data": {
            "text/plain": [
              "tensor([1, 2, 0, 0, 4, 0])"
            ]
          },
          "metadata": {},
          "execution_count": 9
        }
      ],
      "source": [
        "v = pt.tensor([1, 2, 0, 0, 4, 0]) # Given\n",
        "v"
      ]
    },
    {
      "cell_type": "code",
      "execution_count": null,
      "metadata": {
        "id": "CMG3ABDuzCXL",
        "colab": {
          "base_uri": "https://localhost:8080/"
        },
        "outputId": "3e95311e-2953-4cac-b067-c52ee2b85489"
      },
      "outputs": [
        {
          "output_type": "execute_result",
          "data": {
            "text/plain": [
              "tensor([[0],\n",
              "        [1],\n",
              "        [4]])"
            ]
          },
          "metadata": {},
          "execution_count": 12
        }
      ],
      "source": [
        "indices = v.nonzero()\n",
        "indices"
      ]
    },
    {
      "cell_type": "code",
      "execution_count": null,
      "metadata": {
        "id": "jchFAWS7C1tY"
      },
      "outputs": [],
      "source": []
    },
    {
      "cell_type": "markdown",
      "metadata": {
        "id": "r0NwWieZzCXO"
      },
      "source": [
        "## Create a 5x5 identity matrix"
      ]
    },
    {
      "cell_type": "code",
      "execution_count": null,
      "metadata": {
        "id": "wIS7MHEEzCXO",
        "colab": {
          "base_uri": "https://localhost:8080/"
        },
        "outputId": "19feaaea-eff8-4b25-bafe-ad36f3f45380"
      },
      "outputs": [
        {
          "output_type": "execute_result",
          "data": {
            "text/plain": [
              "tensor([[1., 0., 0., 0., 0.],\n",
              "        [0., 1., 0., 0., 0.],\n",
              "        [0., 0., 1., 0., 0.],\n",
              "        [0., 0., 0., 1., 0.],\n",
              "        [0., 0., 0., 0., 1.]])"
            ]
          },
          "metadata": {},
          "execution_count": 13
        }
      ],
      "source": [
        "pt.eye(5)"
      ]
    },
    {
      "cell_type": "markdown",
      "metadata": {
        "id": "6djlGYnOzCXR"
      },
      "source": [
        "## Create a 3x3x3 array with random values"
      ]
    },
    {
      "cell_type": "code",
      "execution_count": null,
      "metadata": {
        "id": "7WkWYz7wzCXR",
        "colab": {
          "base_uri": "https://localhost:8080/"
        },
        "outputId": "72eec775-db71-48bf-ee6f-8136fb3fbeae"
      },
      "outputs": [
        {
          "output_type": "execute_result",
          "data": {
            "text/plain": [
              "tensor([[[ 1.0395,  0.3582, -0.0033],\n",
              "         [-0.5344,  1.1687,  0.3945],\n",
              "         [ 1.9415,  0.7915,  0.0335]],\n",
              "\n",
              "        [[ 0.7101, -1.5353, -2.4351],\n",
              "         [-0.0729, -0.0340,  0.9625],\n",
              "         [ 0.3492, -0.9215, -0.0562]],\n",
              "\n",
              "        [[-0.7015, -0.4637,  1.9218],\n",
              "         [-0.4025,  0.1239,  1.1648],\n",
              "         [ 0.9234,  1.3873,  1.3750]]])"
            ]
          },
          "metadata": {},
          "execution_count": 17
        }
      ],
      "source": [
        "rand33 = pt.randn(3, 3, 3)\n",
        "rand33"
      ]
    },
    {
      "cell_type": "markdown",
      "metadata": {
        "id": "HiVyKZCuzCXU"
      },
      "source": [
        "## Find the minimum and maximum values generated in the previous step"
      ]
    },
    {
      "cell_type": "code",
      "execution_count": null,
      "metadata": {
        "id": "COJHmxatzCXU",
        "colab": {
          "base_uri": "https://localhost:8080/"
        },
        "outputId": "710732cb-e767-4555-ed29-7da478841bb8"
      },
      "outputs": [
        {
          "output_type": "execute_result",
          "data": {
            "text/plain": [
              "(tensor(-2.4351), tensor(1.9415))"
            ]
          },
          "metadata": {},
          "execution_count": 18
        }
      ],
      "source": [
        "rand33.min(), rand33.max()"
      ]
    },
    {
      "cell_type": "markdown",
      "metadata": {
        "id": "AvXiXNOBzCXW"
      },
      "source": [
        "## Create a vector with 30 random values and find its mean"
      ]
    },
    {
      "cell_type": "code",
      "execution_count": null,
      "metadata": {
        "id": "xzDFiTv3zCXX",
        "colab": {
          "base_uri": "https://localhost:8080/"
        },
        "outputId": "f0c0f511-d5fd-4598-a6bd-0f37610de58d"
      },
      "outputs": [
        {
          "output_type": "execute_result",
          "data": {
            "text/plain": [
              "tensor(-0.0257)"
            ]
          },
          "metadata": {},
          "execution_count": 19
        }
      ],
      "source": [
        "rand30 = pt.randn(30)\n",
        "rand30.mean()"
      ]
    },
    {
      "cell_type": "markdown",
      "metadata": {
        "id": "CghaD0RFzCXZ"
      },
      "source": [
        "## Create a 5x5 2d array with 1s around the edges and 0s in the middle"
      ]
    },
    {
      "cell_type": "code",
      "execution_count": null,
      "metadata": {
        "id": "GZC49QjdzCXa",
        "colab": {
          "base_uri": "https://localhost:8080/"
        },
        "outputId": "bb8cf108-f076-47ec-8916-1f82b6befdae"
      },
      "outputs": [
        {
          "output_type": "execute_result",
          "data": {
            "text/plain": [
              "tensor([[1., 1., 1., 1., 1.],\n",
              "        [1., 0., 0., 0., 1.],\n",
              "        [1., 0., 0., 0., 1.],\n",
              "        [1., 0., 0., 0., 1.],\n",
              "        [1., 1., 1., 1., 1.]])"
            ]
          },
          "metadata": {},
          "execution_count": 27
        }
      ],
      "source": [
        "rand55 = pt.zeros(5, 5)\n",
        "rand55[0, :] = 1\n",
        "rand55[:, 0] = 1\n",
        "rand55[-1, :] = 1\n",
        "rand55[:, -1] = 1\n",
        "rand55"
      ]
    },
    {
      "cell_type": "markdown",
      "metadata": {
        "id": "Jpcx99OgzCXd"
      },
      "source": [
        "## Try to predict the output of each of the following cells before running them"
      ]
    },
    {
      "cell_type": "code",
      "execution_count": null,
      "metadata": {
        "id": "ZkZJgk5YzCXe",
        "colab": {
          "base_uri": "https://localhost:8080/"
        },
        "outputId": "c531a142-d5ba-4b68-e156-bef72e28334f"
      },
      "outputs": [
        {
          "output_type": "execute_result",
          "data": {
            "text/plain": [
              "nan"
            ]
          },
          "metadata": {},
          "execution_count": 29
        }
      ],
      "source": [
        "0 * float('nan')"
      ]
    },
    {
      "cell_type": "code",
      "execution_count": null,
      "metadata": {
        "id": "dq81y-y8zCXh",
        "colab": {
          "base_uri": "https://localhost:8080/"
        },
        "outputId": "019885d1-ff8d-41ca-8397-873f9897d78f"
      },
      "outputs": [
        {
          "output_type": "execute_result",
          "data": {
            "text/plain": [
              "False"
            ]
          },
          "metadata": {},
          "execution_count": 30
        }
      ],
      "source": [
        "float('nan') == float('nan')"
      ]
    },
    {
      "cell_type": "code",
      "execution_count": null,
      "metadata": {
        "id": "b2CwjiTbzCXk",
        "colab": {
          "base_uri": "https://localhost:8080/"
        },
        "outputId": "9d20fe66-e8dc-4708-fb7e-6046e0cbab79"
      },
      "outputs": [
        {
          "output_type": "execute_result",
          "data": {
            "text/plain": [
              "inf"
            ]
          },
          "metadata": {},
          "execution_count": 32
        }
      ],
      "source": [
        "float('inf')"
      ]
    },
    {
      "cell_type": "code",
      "execution_count": null,
      "metadata": {
        "id": "49Tq53HRzCXn",
        "colab": {
          "base_uri": "https://localhost:8080/"
        },
        "outputId": "0089bfa4-dd28-44de-c964-73c54aa9569d"
      },
      "outputs": [
        {
          "output_type": "execute_result",
          "data": {
            "text/plain": [
              "nan"
            ]
          },
          "metadata": {},
          "execution_count": 33
        }
      ],
      "source": [
        "float('nan') - float('nan')"
      ]
    },
    {
      "cell_type": "code",
      "execution_count": null,
      "metadata": {
        "id": "1diW27rLzCXp",
        "colab": {
          "base_uri": "https://localhost:8080/"
        },
        "outputId": "e83c9fd6-8129-4b48-c4a7-e4986c0ca61e"
      },
      "outputs": [
        {
          "output_type": "execute_result",
          "data": {
            "text/plain": [
              "False"
            ]
          },
          "metadata": {},
          "execution_count": 34
        }
      ],
      "source": [
        "0.3 == 3 * 0.1"
      ]
    },
    {
      "cell_type": "code",
      "execution_count": null,
      "metadata": {
        "id": "EAdhSCJbzCXr",
        "colab": {
          "base_uri": "https://localhost:8080/",
          "height": 293
        },
        "outputId": "57b21d72-83c3-4b50-f713-6d88d13bf572"
      },
      "outputs": [
        {
          "output_type": "error",
          "ename": "RuntimeError",
          "evalue": "ZeroDivisionError",
          "traceback": [
            "\u001b[0;31m---------------------------------------------------------------------------\u001b[0m",
            "\u001b[0;31mRuntimeError\u001b[0m                              Traceback (most recent call last)",
            "\u001b[0;32m<ipython-input-35-71913765b75f>\u001b[0m in \u001b[0;36m<cell line: 0>\u001b[0;34m()\u001b[0m\n\u001b[0;32m----> 1\u001b[0;31m \u001b[0mpt\u001b[0m\u001b[0;34m.\u001b[0m\u001b[0mtensor\u001b[0m\u001b[0;34m(\u001b[0m\u001b[0;34m[\u001b[0m\u001b[0;36m0\u001b[0m\u001b[0;34m]\u001b[0m\u001b[0;34m)\u001b[0m \u001b[0;34m//\u001b[0m \u001b[0mpt\u001b[0m\u001b[0;34m.\u001b[0m\u001b[0mtensor\u001b[0m\u001b[0;34m(\u001b[0m\u001b[0;34m[\u001b[0m\u001b[0;36m0\u001b[0m\u001b[0;34m]\u001b[0m\u001b[0;34m)\u001b[0m \u001b[0;31m#crashes the kernel :) continue with the next cell\u001b[0m\u001b[0;34m\u001b[0m\u001b[0;34m\u001b[0m\u001b[0m\n\u001b[0m",
            "\u001b[0;32m/usr/local/lib/python3.11/dist-packages/torch/_tensor.py\u001b[0m in \u001b[0;36mwrapped\u001b[0;34m(*args, **kwargs)\u001b[0m\n\u001b[1;32m     37\u001b[0m             \u001b[0;32mif\u001b[0m \u001b[0mhas_torch_function\u001b[0m\u001b[0;34m(\u001b[0m\u001b[0margs\u001b[0m\u001b[0;34m)\u001b[0m\u001b[0;34m:\u001b[0m\u001b[0;34m\u001b[0m\u001b[0;34m\u001b[0m\u001b[0m\n\u001b[1;32m     38\u001b[0m                 \u001b[0;32mreturn\u001b[0m \u001b[0mhandle_torch_function\u001b[0m\u001b[0;34m(\u001b[0m\u001b[0mwrapped\u001b[0m\u001b[0;34m,\u001b[0m \u001b[0margs\u001b[0m\u001b[0;34m,\u001b[0m \u001b[0;34m*\u001b[0m\u001b[0margs\u001b[0m\u001b[0;34m,\u001b[0m \u001b[0;34m**\u001b[0m\u001b[0mkwargs\u001b[0m\u001b[0;34m)\u001b[0m\u001b[0;34m\u001b[0m\u001b[0;34m\u001b[0m\u001b[0m\n\u001b[0;32m---> 39\u001b[0;31m             \u001b[0;32mreturn\u001b[0m \u001b[0mf\u001b[0m\u001b[0;34m(\u001b[0m\u001b[0;34m*\u001b[0m\u001b[0margs\u001b[0m\u001b[0;34m,\u001b[0m \u001b[0;34m**\u001b[0m\u001b[0mkwargs\u001b[0m\u001b[0;34m)\u001b[0m\u001b[0;34m\u001b[0m\u001b[0;34m\u001b[0m\u001b[0m\n\u001b[0m\u001b[1;32m     40\u001b[0m         \u001b[0;32mexcept\u001b[0m \u001b[0mTypeError\u001b[0m\u001b[0;34m:\u001b[0m\u001b[0;34m\u001b[0m\u001b[0;34m\u001b[0m\u001b[0m\n\u001b[1;32m     41\u001b[0m             \u001b[0;32mreturn\u001b[0m \u001b[0mNotImplemented\u001b[0m\u001b[0;34m\u001b[0m\u001b[0;34m\u001b[0m\u001b[0m\n",
            "\u001b[0;32m/usr/local/lib/python3.11/dist-packages/torch/_tensor.py\u001b[0m in \u001b[0;36m__floordiv__\u001b[0;34m(self, other)\u001b[0m\n\u001b[1;32m   1104\u001b[0m     \u001b[0;34m@\u001b[0m\u001b[0m_handle_torch_function_and_wrap_type_error_to_not_implemented\u001b[0m\u001b[0;34m\u001b[0m\u001b[0;34m\u001b[0m\u001b[0m\n\u001b[1;32m   1105\u001b[0m     \u001b[0;32mdef\u001b[0m \u001b[0m__floordiv__\u001b[0m\u001b[0;34m(\u001b[0m\u001b[0mself\u001b[0m\u001b[0;34m,\u001b[0m \u001b[0mother\u001b[0m\u001b[0;34m)\u001b[0m\u001b[0;34m:\u001b[0m\u001b[0;34m\u001b[0m\u001b[0;34m\u001b[0m\u001b[0m\n\u001b[0;32m-> 1106\u001b[0;31m         \u001b[0;32mreturn\u001b[0m \u001b[0mtorch\u001b[0m\u001b[0;34m.\u001b[0m\u001b[0mfloor_divide\u001b[0m\u001b[0;34m(\u001b[0m\u001b[0mself\u001b[0m\u001b[0;34m,\u001b[0m \u001b[0mother\u001b[0m\u001b[0;34m)\u001b[0m\u001b[0;34m\u001b[0m\u001b[0;34m\u001b[0m\u001b[0m\n\u001b[0m\u001b[1;32m   1107\u001b[0m \u001b[0;34m\u001b[0m\u001b[0m\n\u001b[1;32m   1108\u001b[0m     \u001b[0;34m@\u001b[0m\u001b[0m_handle_torch_function_and_wrap_type_error_to_not_implemented\u001b[0m\u001b[0;34m\u001b[0m\u001b[0;34m\u001b[0m\u001b[0m\n",
            "\u001b[0;31mRuntimeError\u001b[0m: ZeroDivisionError"
          ]
        }
      ],
      "source": [
        "pt.tensor([0]) // pt.tensor([0]) #crashes the kernel :) continue with the next cell"
      ]
    },
    {
      "cell_type": "code",
      "execution_count": null,
      "metadata": {
        "id": "T8dkSa1dzCXt",
        "colab": {
          "base_uri": "https://localhost:8080/"
        },
        "outputId": "154539a2-e08b-424a-bf4d-ca45757010dc"
      },
      "outputs": [
        {
          "output_type": "execute_result",
          "data": {
            "text/plain": [
              "tensor([nan])"
            ]
          },
          "metadata": {},
          "execution_count": 36
        }
      ],
      "source": [
        "import torch as pt #this is in case you crashed on the previous cell\n",
        "pt.tensor([0]) // pt.tensor([0.0])"
      ]
    },
    {
      "cell_type": "code",
      "execution_count": null,
      "metadata": {
        "id": "6-vnyvnY3O_-",
        "colab": {
          "base_uri": "https://localhost:8080/"
        },
        "outputId": "b5b14325-be7c-4872-81bc-9aaf95ea5584"
      },
      "outputs": [
        {
          "output_type": "execute_result",
          "data": {
            "text/plain": [
              "tensor([True])"
            ]
          },
          "metadata": {},
          "execution_count": 37
        }
      ],
      "source": [
        "nan_scalar = pt.tensor([float('nan')])\n",
        "\n",
        "pt.isnan(nan_scalar)"
      ]
    },
    {
      "cell_type": "code",
      "execution_count": null,
      "metadata": {
        "id": "oQgbcYV2zCX0",
        "colab": {
          "base_uri": "https://localhost:8080/"
        },
        "outputId": "e5dba355-49c6-4d3d-b117-c857728c776f"
      },
      "outputs": [
        {
          "output_type": "execute_result",
          "data": {
            "text/plain": [
              "tensor([nan])"
            ]
          },
          "metadata": {},
          "execution_count": 38
        }
      ],
      "source": [
        "pt.tensor([0]) / pt.tensor([0.0])"
      ]
    },
    {
      "cell_type": "markdown",
      "metadata": {
        "id": "YcnIalmYzCX2"
      },
      "source": [
        "## Find the integer part of the following array using four different methods:"
      ]
    },
    {
      "cell_type": "code",
      "execution_count": null,
      "metadata": {
        "id": "xGjqeNf-zCX4",
        "colab": {
          "base_uri": "https://localhost:8080/"
        },
        "outputId": "35da7565-0f02-437c-a563-5d8665075dd1"
      },
      "outputs": [
        {
          "output_type": "execute_result",
          "data": {
            "text/plain": [
              "tensor([ 0.3066, -0.8420, -0.1174,  0.3627, -0.3253, -0.5434,  0.4304,  0.2640,\n",
              "         0.7012, -0.8035])"
            ]
          },
          "metadata": {},
          "execution_count": 39
        }
      ],
      "source": [
        "a = pt.randn((10,), dtype = pt.float32)\n",
        "a"
      ]
    },
    {
      "cell_type": "code",
      "execution_count": null,
      "metadata": {
        "id": "jTI5BWoUzCX6",
        "colab": {
          "base_uri": "https://localhost:8080/"
        },
        "outputId": "292c8d4c-a12a-4caa-d03a-9771a267a935"
      },
      "outputs": [
        {
          "output_type": "execute_result",
          "data": {
            "text/plain": [
              "tensor([ 0., -1., -1.,  0., -1., -1.,  0.,  0.,  0., -1.])"
            ]
          },
          "metadata": {},
          "execution_count": 41
        }
      ],
      "source": [
        "\n",
        "a.floor()\n",
        "\n"
      ]
    },
    {
      "cell_type": "code",
      "execution_count": null,
      "metadata": {
        "id": "DHbpIPvJzCX8",
        "colab": {
          "base_uri": "https://localhost:8080/"
        },
        "outputId": "08751f39-6f6a-42ea-9d35-c64a677bd72d"
      },
      "outputs": [
        {
          "output_type": "execute_result",
          "data": {
            "text/plain": [
              "tensor([0., -0., -0., 0., -0., -0., 0., 0., 0., -0.])"
            ]
          },
          "metadata": {},
          "execution_count": 45
        }
      ],
      "source": [
        "a.trunc()\n"
      ]
    },
    {
      "cell_type": "code",
      "execution_count": null,
      "metadata": {
        "id": "lW8C0_RTzCX-",
        "colab": {
          "base_uri": "https://localhost:8080/"
        },
        "outputId": "470e1c3a-9220-4618-ac82-d0efc026523b"
      },
      "outputs": [
        {
          "output_type": "execute_result",
          "data": {
            "text/plain": [
              "tensor([ 0., -1., -1.,  0., -1., -1.,  0.,  0.,  0., -1.])"
            ]
          },
          "metadata": {},
          "execution_count": 46
        }
      ],
      "source": [
        "pt.floor(a)\n"
      ]
    },
    {
      "cell_type": "code",
      "execution_count": null,
      "metadata": {
        "id": "6tKQz-OdzCYA",
        "colab": {
          "base_uri": "https://localhost:8080/"
        },
        "outputId": "c7b53b30-ff97-4f32-bf5f-dd53f470f8f6"
      },
      "outputs": [
        {
          "output_type": "execute_result",
          "data": {
            "text/plain": [
              "tensor([0., -0., -0., 0., -0., -0., 0., 0., 0., -0.])"
            ]
          },
          "metadata": {},
          "execution_count": 44
        }
      ],
      "source": [
        "pt.trunc(a)"
      ]
    },
    {
      "cell_type": "markdown",
      "metadata": {
        "id": "wCR6R94rzCYD"
      },
      "source": [
        "## Create a vector of 10 values from 0 to 1, both included"
      ]
    },
    {
      "cell_type": "code",
      "execution_count": null,
      "metadata": {
        "id": "26HYaGsczCYD",
        "colab": {
          "base_uri": "https://localhost:8080/"
        },
        "outputId": "1715374a-7459-409a-ac66-24b6c876c008"
      },
      "outputs": [
        {
          "output_type": "execute_result",
          "data": {
            "text/plain": [
              "tensor([0.0000, 0.1111, 0.2222, 0.3333, 0.4444, 0.5556, 0.6667, 0.7778, 0.8889,\n",
              "        1.0000])"
            ]
          },
          "metadata": {},
          "execution_count": 47
        }
      ],
      "source": [
        "pt.linspace(0, 1, 10)"
      ]
    },
    {
      "cell_type": "markdown",
      "metadata": {
        "id": "MHw1Dq5QzCYF"
      },
      "source": [
        "## Create a vector of size 10 with values ranging from 0 to 1, both excluded"
      ]
    },
    {
      "cell_type": "code",
      "execution_count": null,
      "metadata": {
        "id": "DWJVTJ7DzCYG",
        "colab": {
          "base_uri": "https://localhost:8080/"
        },
        "outputId": "e6fbca99-b8d7-47e9-9c80-4f4ff2899257"
      },
      "outputs": [
        {
          "output_type": "execute_result",
          "data": {
            "text/plain": [
              "tensor([0.0909, 0.1818, 0.2727, 0.3636, 0.4545, 0.5455, 0.6364, 0.7273, 0.8182,\n",
              "        0.9091])"
            ]
          },
          "metadata": {},
          "execution_count": 52
        }
      ],
      "source": [
        "\n",
        "\n",
        "pt.linspace(0, 1, 12)[1:-1]\n"
      ]
    },
    {
      "cell_type": "markdown",
      "metadata": {
        "id": "76FEjR_TzCYH"
      },
      "source": [
        "## Subtract the mean of each row of the following matrix"
      ]
    },
    {
      "cell_type": "code",
      "execution_count": null,
      "metadata": {
        "id": "1d7JY5y6zCYI",
        "colab": {
          "base_uri": "https://localhost:8080/"
        },
        "outputId": "b0d18da9-508d-49eb-8a4b-61ac02802ddb"
      },
      "outputs": [
        {
          "output_type": "execute_result",
          "data": {
            "text/plain": [
              "tensor([[0.1753, 0.4431, 0.6432],\n",
              "        [0.5159, 0.1636, 0.0958],\n",
              "        [0.8985, 0.5814, 0.9148]])"
            ]
          },
          "metadata": {},
          "execution_count": 53
        }
      ],
      "source": [
        "m = pt.rand(3, 3)\n",
        "m"
      ]
    },
    {
      "cell_type": "code",
      "execution_count": null,
      "metadata": {
        "id": "t9aldiCQ51Hz",
        "colab": {
          "base_uri": "https://localhost:8080/"
        },
        "outputId": "34cdc011-218b-4e22-f23d-d4ac8e894830"
      },
      "outputs": [
        {
          "output_type": "execute_result",
          "data": {
            "text/plain": [
              "tensor([[-0.2453,  0.0226,  0.2227],\n",
              "        [ 0.2575, -0.0949, -0.1626],\n",
              "        [ 0.1003, -0.2168,  0.1166]])"
            ]
          },
          "metadata": {},
          "execution_count": 57
        }
      ],
      "source": [
        "mean = m.mean(dim=1, keepdim=True)\n",
        "m - mean"
      ]
    },
    {
      "cell_type": "code",
      "execution_count": null,
      "metadata": {
        "id": "uTsIb1GZzCYL"
      },
      "outputs": [],
      "source": []
    },
    {
      "cell_type": "code",
      "execution_count": null,
      "metadata": {
        "id": "ryRQVWqICpQK"
      },
      "outputs": [],
      "source": []
    },
    {
      "cell_type": "code",
      "execution_count": null,
      "metadata": {
        "id": "uxhdOaWFCu1M"
      },
      "outputs": [],
      "source": []
    },
    {
      "cell_type": "markdown",
      "metadata": {
        "id": "f2w3ku_izCYO"
      },
      "source": [
        "## Add 1,000,000 numbers together using __`torch`__ vectorized operations"
      ]
    },
    {
      "cell_type": "code",
      "execution_count": null,
      "metadata": {
        "id": "yPaNUdD4zCYP",
        "colab": {
          "base_uri": "https://localhost:8080/"
        },
        "outputId": "f09cb38c-c646-4c42-906e-fec956bfd473"
      },
      "outputs": [
        {
          "output_type": "execute_result",
          "data": {
            "text/plain": [
              "tensor(499999500000)"
            ]
          },
          "metadata": {},
          "execution_count": 56
        }
      ],
      "source": [
        "\n",
        "a = pt.arange(1000000)\n",
        "a.sum()\n"
      ]
    },
    {
      "cell_type": "markdown",
      "metadata": {
        "id": "IclUTxlAzCYS"
      },
      "source": [
        "## Create a 4x4 array of the first 16 powers of 3"
      ]
    },
    {
      "cell_type": "code",
      "execution_count": null,
      "metadata": {
        "id": "86JDG003zCYS",
        "colab": {
          "base_uri": "https://localhost:8080/"
        },
        "outputId": "9c3a042f-ddad-4daa-d82e-ae90a71d52b4"
      },
      "outputs": [
        {
          "output_type": "execute_result",
          "data": {
            "text/plain": [
              "tensor([[       1,        3,        9,       27],\n",
              "        [      81,      243,      729,     2187],\n",
              "        [    6561,    19683,    59049,   177147],\n",
              "        [  531441,  1594323,  4782969, 14348907]])"
            ]
          },
          "metadata": {},
          "execution_count": 60
        }
      ],
      "source": [
        "pt.pow(3, pt.arange(16)).reshape(4, 4)"
      ]
    },
    {
      "cell_type": "code",
      "source": [],
      "metadata": {
        "id": "8CMrn_GHaM_j"
      },
      "execution_count": null,
      "outputs": []
    }
  ],
  "metadata": {
    "accelerator": "GPU",
    "colab": {
      "provenance": [],
      "include_colab_link": true
    },
    "kernelspec": {
      "display_name": "Python 3",
      "language": "python",
      "name": "python3"
    },
    "language_info": {
      "codemirror_mode": {
        "name": "ipython",
        "version": 3
      },
      "file_extension": ".py",
      "mimetype": "text/x-python",
      "name": "python",
      "nbconvert_exporter": "python",
      "pygments_lexer": "ipython3",
      "version": "3.11.10"
    }
  },
  "nbformat": 4,
  "nbformat_minor": 0
}