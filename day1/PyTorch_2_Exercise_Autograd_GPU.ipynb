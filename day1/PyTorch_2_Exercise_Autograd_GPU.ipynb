{
  "cells": [
    {
      "cell_type": "markdown",
      "metadata": {
        "id": "view-in-github",
        "colab_type": "text"
      },
      "source": [
        "<a href=\"https://colab.research.google.com/github/kishoremkv/gen-ai-fundamentals/blob/main/day1/PyTorch_2_Exercise_Autograd_GPU.ipynb\" target=\"_parent\"><img src=\"https://colab.research.google.com/assets/colab-badge.svg\" alt=\"Open In Colab\"/></a>"
      ]
    },
    {
      "cell_type": "markdown",
      "metadata": {
        "id": "Qx24j_XTVBfN"
      },
      "source": [
        "## Use PyTorch autograd and gradient descent for linear regression\n",
        "* create a synthetic dataset with 100 data points"
      ]
    },
    {
      "cell_type": "code",
      "execution_count": 1,
      "metadata": {
        "id": "YsBVS1sYVBfO",
        "outputId": "8054d319-34da-40bd-f377-bd0ef8eabb22",
        "colab": {
          "base_uri": "https://localhost:8080/"
        }
      },
      "outputs": [
        {
          "output_type": "execute_result",
          "data": {
            "text/plain": [
              "<torch._C.Generator at 0x7b67b02364f0>"
            ]
          },
          "metadata": {},
          "execution_count": 1
        }
      ],
      "source": [
        "import torch as pt\n",
        "pt.manual_seed(0)"
      ]
    },
    {
      "cell_type": "code",
      "execution_count": 7,
      "metadata": {
        "id": "Eo_DaI9RVcTE",
        "outputId": "6b014712-1e1d-4bdf-dc67-8825cbfaf8e8",
        "colab": {
          "base_uri": "https://localhost:8080/"
        }
      },
      "outputs": [
        {
          "output_type": "execute_result",
          "data": {
            "text/plain": [
              "tensor([[-0.3099],\n",
              "        [-0.0561],\n",
              "        [ 0.5174],\n",
              "        [-1.5962],\n",
              "        [ 0.5411],\n",
              "        [ 1.5390],\n",
              "        [ 1.0860],\n",
              "        [ 1.2464],\n",
              "        [ 0.5631],\n",
              "        [-1.4351],\n",
              "        [ 0.7194],\n",
              "        [-1.3707],\n",
              "        [ 0.8732],\n",
              "        [ 0.0651],\n",
              "        [ 0.7732],\n",
              "        [-0.9701],\n",
              "        [ 1.2359],\n",
              "        [-0.1002],\n",
              "        [ 2.1364],\n",
              "        [ 0.0700],\n",
              "        [ 0.4990],\n",
              "        [ 0.8780],\n",
              "        [ 0.3894],\n",
              "        [ 1.4625],\n",
              "        [ 1.1901],\n",
              "        [ 2.6352],\n",
              "        [ 0.2284],\n",
              "        [ 0.3241],\n",
              "        [-0.3112],\n",
              "        [-0.5620],\n",
              "        [-0.4835],\n",
              "        [-1.2721],\n",
              "        [-1.0921],\n",
              "        [-0.0611],\n",
              "        [-1.4928],\n",
              "        [-1.7644],\n",
              "        [ 0.2942],\n",
              "        [ 0.7973],\n",
              "        [ 1.2642],\n",
              "        [ 0.9355],\n",
              "        [ 2.1432],\n",
              "        [-0.9626],\n",
              "        [-0.5636],\n",
              "        [ 1.6446],\n",
              "        [ 1.4502],\n",
              "        [ 4.1015],\n",
              "        [ 1.1182],\n",
              "        [-1.5668],\n",
              "        [-0.5550],\n",
              "        [ 0.7867],\n",
              "        [ 0.6816],\n",
              "        [ 1.5178],\n",
              "        [-0.7645],\n",
              "        [ 0.2408],\n",
              "        [ 0.1664],\n",
              "        [-2.2318],\n",
              "        [-1.8869],\n",
              "        [ 0.7428],\n",
              "        [-0.0925],\n",
              "        [-1.4309],\n",
              "        [ 1.6859],\n",
              "        [-1.2177],\n",
              "        [ 0.7650],\n",
              "        [ 1.1971],\n",
              "        [-2.2414],\n",
              "        [ 0.4373],\n",
              "        [-0.5554],\n",
              "        [-0.0579],\n",
              "        [-0.0118],\n",
              "        [ 0.9797],\n",
              "        [-1.0661],\n",
              "        [ 1.7720],\n",
              "        [-0.3806],\n",
              "        [ 1.1311],\n",
              "        [-0.0902],\n",
              "        [-0.8979],\n",
              "        [-0.9518],\n",
              "        [ 0.2715],\n",
              "        [ 0.6716],\n",
              "        [ 1.8500],\n",
              "        [-0.6360],\n",
              "        [ 1.1082],\n",
              "        [-0.0056],\n",
              "        [ 1.4585],\n",
              "        [-1.1991],\n",
              "        [-0.0257],\n",
              "        [ 1.8024],\n",
              "        [-1.0597],\n",
              "        [ 3.4028],\n",
              "        [-0.5687],\n",
              "        [-0.4755],\n",
              "        [ 1.7432],\n",
              "        [-0.2044],\n",
              "        [-0.3164],\n",
              "        [ 1.2937],\n",
              "        [ 1.3453],\n",
              "        [ 0.1939],\n",
              "        [ 1.5717],\n",
              "        [-0.3827],\n",
              "        [ 1.3951]])"
            ]
          },
          "metadata": {},
          "execution_count": 7
        }
      ],
      "source": [
        "data = pt.randn(100, 1)\n",
        "data"
      ]
    },
    {
      "cell_type": "markdown",
      "metadata": {
        "id": "Yz9T8IEdVBfS"
      },
      "source": [
        "## Render a scatter plot of the sample data\n",
        "* remember to import `matplotlib.pyplot as plt` and set `%matplotlib inline`"
      ]
    },
    {
      "cell_type": "code",
      "execution_count": 9,
      "metadata": {
        "id": "3DudXmpPVBfT",
        "outputId": "4b9a933e-064b-474b-ed71-e0d8ef8562e4",
        "colab": {
          "base_uri": "https://localhost:8080/",
          "height": 448
        }
      },
      "outputs": [
        {
          "output_type": "execute_result",
          "data": {
            "text/plain": [
              "<matplotlib.collections.PathCollection at 0x7b66cf2ca690>"
            ]
          },
          "metadata": {},
          "execution_count": 9
        },
        {
          "output_type": "display_data",
          "data": {
            "text/plain": [
              "<Figure size 640x480 with 1 Axes>"
            ],
            "image/png": "[encoded data removed]"
          },
          "metadata": {}
        }
      ],
      "source": [
        "import matplotlib.pyplot as plt\n",
        "%matplotlib inline\n",
        "plt.scatter(data, data)"
      ]
    },
    {
      "cell_type": "markdown",
      "metadata": {
        "id": "qyQi9_ifVBfW"
      },
      "source": [
        "## Initialize the model parameter\n",
        "* **hint:** don't forget to set `requires_grad = True`"
      ]
    },
    {
      "cell_type": "code",
      "execution_count": 10,
      "metadata": {
        "id": "c94VxZr6VBfW",
        "outputId": "49a09047-b29a-4522-a080-27ac6cd42786",
        "colab": {
          "base_uri": "https://localhost:8080/"
        }
      },
      "outputs": [
        {
          "output_type": "execute_result",
          "data": {
            "text/plain": [
              "tensor([-0.2001], requires_grad=True)"
            ]
          },
          "metadata": {},
          "execution_count": 10
        }
      ],
      "source": [
        "# prompt: Initialize the model parameter\n",
        "\n",
        "w = pt.randn(1, requires_grad=True)\n",
        "w\n"
      ]
    },
    {
      "cell_type": "markdown",
      "metadata": {
        "id": "X4hVuPWBVBfZ"
      },
      "source": [
        "## Implement a `forward` method that returns the predicted values"
      ]
    },
    {
      "cell_type": "code",
      "execution_count": 11,
      "metadata": {
        "id": "Wq4m8a-MVBfa"
      },
      "outputs": [],
      "source": [
        "def forward(x):\n",
        "  return w * x\n"
      ]
    },
    {
      "cell_type": "markdown",
      "metadata": {
        "id": "7uLso0QdVBfc"
      },
      "source": [
        "## Implement a `loss` method that returns the mean squared error\n",
        "* **hint:** use the `pt.mean` method"
      ]
    },
    {
      "cell_type": "code",
      "execution_count": 12,
      "metadata": {
        "id": "kgCoI9IqVBfd"
      },
      "outputs": [],
      "source": [
        "def loss(y_pred, y_true):\n",
        "  return pt.mean((y_pred - y_true)**2)\n"
      ]
    },
    {
      "cell_type": "code",
      "execution_count": null,
      "metadata": {
        "id": "LzFyAE3aVBff"
      },
      "outputs": [],
      "source": []
    },
    {
      "cell_type": "markdown",
      "metadata": {
        "id": "Rd09Kb9aVBfj"
      },
      "source": [
        "## Render a plot of the sample data with a line based on your model parameter\n",
        "* use `detach().numpy()` on the tensor generated by your model to render it\n",
        "* **hint:** reuse your `forward` function to generate the values for the line plot\n"
      ]
    },
    {
      "cell_type": "code",
      "execution_count": 13,
      "metadata": {
        "id": "uAt4LBo_VBfj",
        "outputId": "3a3f53c6-0b1b-4ca3-b57f-a59fa1b17dea",
        "colab": {
          "base_uri": "https://localhost:8080/",
          "height": 430
        }
      },
      "outputs": [
        {
          "output_type": "display_data",
          "data": {
            "text/plain": [
              "<Figure size 640x480 with 1 Axes>"
            ],
            "image/png": "[encoded data removed]"
          },
          "metadata": {}
        }
      ],
      "source": [
        "\n",
        "\n",
        "x = data\n",
        "y_pred = forward(x).detach().numpy()\n",
        "\n",
        "plt.scatter(data, data)\n",
        "plt.plot(x.numpy(), y_pred)\n",
        "plt.show()\n"
      ]
    },
    {
      "cell_type": "code",
      "source": [],
      "metadata": {
        "id": "W5lvaRG0fVck"
      },
      "execution_count": null,
      "outputs": []
    }
  ],
  "metadata": {
    "colab": {
      "provenance": [],
      "include_colab_link": true
    },
    "kernelspec": {
      "display_name": "Python 3 (ipykernel)",
      "language": "python",
      "name": "python3"
    },
    "language_info": {
      "codemirror_mode": {
        "name": "ipython",
        "version": 3
      },
      "file_extension": ".py",
      "mimetype": "text/x-python",
      "name": "python",
      "nbconvert_exporter": "python",
      "pygments_lexer": "ipython3",
      "version": "3.9.1"
    }
  },
  "nbformat": 4,
  "nbformat_minor": 0
}